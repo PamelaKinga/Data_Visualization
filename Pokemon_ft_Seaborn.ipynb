{
  "nbformat": 4,
  "nbformat_minor": 0,
  "metadata": {
    "colab": {
      "provenance": [],
      "collapsed_sections": [
        "ISWcDxLn2IXI",
        "gEEc9Jmp2Qh4",
        "gf0aB59A2WN-",
        "IVVtWwW_s7IZ",
        "sNlG2Of27epd"
      ],
      "mount_file_id": "1iMKkXnqSRFc3Jo4g3_MjTssKfVBFAJ0N",
      "authorship_tag": "ABX9TyPW/2KjiDFDD/rmITTDEOdE",
      "include_colab_link": true
    },
    "kernelspec": {
      "name": "python3",
      "display_name": "Python 3"
    },
    "language_info": {
      "name": "python"
    }
  },
  "cells": [
    {
      "cell_type": "markdown",
      "metadata": {
        "id": "view-in-github",
        "colab_type": "text"
      },
      "source": [
        "<a href=\"https://colab.research.google.com/github/PamelaKinga/Data_Visualization/blob/main/Pokemon_ft_Seaborn.ipynb\" target=\"_parent\"><img src=\"https://colab.research.google.com/assets/colab-badge.svg\" alt=\"Open In Colab\"/></a>"
      ]
    },
    {
      "cell_type": "markdown",
      "source": [
        "## Download Data from Kaggle"
      ],
      "metadata": {
        "id": "ISWcDxLn2IXI"
      }
    },
    {
      "cell_type": "markdown",
      "source": [
        "Data source: https://www.kaggle.com/datasets/rounakbanik/pokemon"
      ],
      "metadata": {
        "id": "Ha7h8b1R4Lpz"
      }
    },
    {
      "cell_type": "code",
      "execution_count": 156,
      "metadata": {
        "colab": {
          "base_uri": "https://localhost:8080/"
        },
        "id": "_9VxkszmSCBH",
        "outputId": "5fd7cfff-782c-4b24-83c9-5dc901ae78ad"
      },
      "outputs": [
        {
          "output_type": "stream",
          "name": "stdout",
          "text": [
            "Looking in indexes: https://pypi.org/simple, https://us-python.pkg.dev/colab-wheels/public/simple/\n",
            "Requirement already satisfied: kaggle in /usr/local/lib/python3.7/dist-packages (1.5.12)\n",
            "Requirement already satisfied: six>=1.10 in /usr/local/lib/python3.7/dist-packages (from kaggle) (1.15.0)\n",
            "Requirement already satisfied: python-slugify in /usr/local/lib/python3.7/dist-packages (from kaggle) (6.1.2)\n",
            "Requirement already satisfied: urllib3 in /usr/local/lib/python3.7/dist-packages (from kaggle) (1.24.3)\n",
            "Requirement already satisfied: tqdm in /usr/local/lib/python3.7/dist-packages (from kaggle) (4.64.1)\n",
            "Requirement already satisfied: requests in /usr/local/lib/python3.7/dist-packages (from kaggle) (2.23.0)\n",
            "Requirement already satisfied: python-dateutil in /usr/local/lib/python3.7/dist-packages (from kaggle) (2.8.2)\n",
            "Requirement already satisfied: certifi in /usr/local/lib/python3.7/dist-packages (from kaggle) (2022.9.24)\n",
            "Requirement already satisfied: text-unidecode>=1.3 in /usr/local/lib/python3.7/dist-packages (from python-slugify->kaggle) (1.3)\n",
            "Requirement already satisfied: chardet<4,>=3.0.2 in /usr/local/lib/python3.7/dist-packages (from requests->kaggle) (3.0.4)\n",
            "Requirement already satisfied: idna<3,>=2.5 in /usr/local/lib/python3.7/dist-packages (from requests->kaggle) (2.10)\n",
            "mkdir: cannot create directory ‘/root/.kaggle’: File exists\n"
          ]
        }
      ],
      "source": [
        "# First mount Gdrive to Colab for these steps to work\n",
        "! pip install kaggle\n",
        "! mkdir ~/.kaggle\n",
        "! cp /content/drive/MyDrive/kaggle.json ~/.kaggle/kaggle.json"
      ]
    },
    {
      "cell_type": "code",
      "source": [
        "! kaggle datasets download -d rounakbanik/pokemon\n",
        "! unzip pokemon.zip"
      ],
      "metadata": {
        "colab": {
          "base_uri": "https://localhost:8080/"
        },
        "id": "oUD8zDMGSNEe",
        "outputId": "5f2c888b-7041-4f7b-d6b9-ca7cb88ba239"
      },
      "execution_count": 157,
      "outputs": [
        {
          "output_type": "stream",
          "name": "stdout",
          "text": [
            "pokemon.zip: Skipping, found more recently modified local copy (use --force to force download)\n",
            "Archive:  pokemon.zip\n",
            "replace pokemon.csv? [y]es, [n]o, [A]ll, [N]one, [r]ename: n\n"
          ]
        }
      ]
    },
    {
      "cell_type": "markdown",
      "source": [
        "## Install Libraries & Load Data\n"
      ],
      "metadata": {
        "id": "gEEc9Jmp2Qh4"
      }
    },
    {
      "cell_type": "markdown",
      "source": [],
      "metadata": {
        "id": "T4wMCWt4YEoB"
      }
    },
    {
      "cell_type": "code",
      "source": [
        "# Import all the libraries needed\n",
        "import pandas as pd\n",
        "import numpy as np\n",
        "# import plotly.express as px\n",
        "# import plotly.graph_objects as go\n",
        "# from plotly.subplots import make_subplots\n",
        "import matplotlib as mpl\n",
        "import matplotlib.pyplot as plt\n",
        "import matplotlib.patheffects as path_effects\n",
        "import seaborn as sns\n",
        "import warnings\n",
        "# for tables\n",
        "# import holoviews as hv\n",
        "# from holoviews import opts, dim"
      ],
      "metadata": {
        "id": "p6gUzYYSXaXd"
      },
      "execution_count": 158,
      "outputs": []
    },
    {
      "cell_type": "code",
      "source": [
        "df=pd.read_csv('pokemon.csv')"
      ],
      "metadata": {
        "id": "M3anGttDXn9V"
      },
      "execution_count": 159,
      "outputs": []
    },
    {
      "cell_type": "markdown",
      "source": [
        "# Explore Null Values"
      ],
      "metadata": {
        "id": "gf0aB59A2WN-"
      }
    },
    {
      "cell_type": "markdown",
      "source": [
        "Explore Missing Values"
      ],
      "metadata": {
        "id": "ymZRVb05Yncq"
      }
    },
    {
      "cell_type": "code",
      "source": [
        "# Quickly describe non-null count and give dtype per column\n",
        "df.info()"
      ],
      "metadata": {
        "colab": {
          "base_uri": "https://localhost:8080/"
        },
        "id": "ieo3wLguV5Uz",
        "outputId": "f88e39fa-b5be-43ec-9752-6f09b8f4cbe6"
      },
      "execution_count": 160,
      "outputs": [
        {
          "output_type": "stream",
          "name": "stdout",
          "text": [
            "<class 'pandas.core.frame.DataFrame'>\n",
            "RangeIndex: 801 entries, 0 to 800\n",
            "Data columns (total 41 columns):\n",
            " #   Column             Non-Null Count  Dtype  \n",
            "---  ------             --------------  -----  \n",
            " 0   abilities          801 non-null    object \n",
            " 1   against_bug        801 non-null    float64\n",
            " 2   against_dark       801 non-null    float64\n",
            " 3   against_dragon     801 non-null    float64\n",
            " 4   against_electric   801 non-null    float64\n",
            " 5   against_fairy      801 non-null    float64\n",
            " 6   against_fight      801 non-null    float64\n",
            " 7   against_fire       801 non-null    float64\n",
            " 8   against_flying     801 non-null    float64\n",
            " 9   against_ghost      801 non-null    float64\n",
            " 10  against_grass      801 non-null    float64\n",
            " 11  against_ground     801 non-null    float64\n",
            " 12  against_ice        801 non-null    float64\n",
            " 13  against_normal     801 non-null    float64\n",
            " 14  against_poison     801 non-null    float64\n",
            " 15  against_psychic    801 non-null    float64\n",
            " 16  against_rock       801 non-null    float64\n",
            " 17  against_steel      801 non-null    float64\n",
            " 18  against_water      801 non-null    float64\n",
            " 19  attack             801 non-null    int64  \n",
            " 20  base_egg_steps     801 non-null    int64  \n",
            " 21  base_happiness     801 non-null    int64  \n",
            " 22  base_total         801 non-null    int64  \n",
            " 23  capture_rate       801 non-null    object \n",
            " 24  classfication      801 non-null    object \n",
            " 25  defense            801 non-null    int64  \n",
            " 26  experience_growth  801 non-null    int64  \n",
            " 27  height_m           781 non-null    float64\n",
            " 28  hp                 801 non-null    int64  \n",
            " 29  japanese_name      801 non-null    object \n",
            " 30  name               801 non-null    object \n",
            " 31  percentage_male    703 non-null    float64\n",
            " 32  pokedex_number     801 non-null    int64  \n",
            " 33  sp_attack          801 non-null    int64  \n",
            " 34  sp_defense         801 non-null    int64  \n",
            " 35  speed              801 non-null    int64  \n",
            " 36  type1              801 non-null    object \n",
            " 37  type2              417 non-null    object \n",
            " 38  weight_kg          781 non-null    float64\n",
            " 39  generation         801 non-null    int64  \n",
            " 40  is_legendary       801 non-null    int64  \n",
            "dtypes: float64(21), int64(13), object(7)\n",
            "memory usage: 256.7+ KB\n"
          ]
        }
      ]
    },
    {
      "cell_type": "code",
      "source": [
        "# How many null values per column\n",
        "df.isnull().sum()"
      ],
      "metadata": {
        "colab": {
          "base_uri": "https://localhost:8080/"
        },
        "id": "I8y0ZIR-RvAG",
        "outputId": "b5f41c6e-9b0e-4f1e-861c-16888eae56b4"
      },
      "execution_count": 161,
      "outputs": [
        {
          "output_type": "execute_result",
          "data": {
            "text/plain": [
              "abilities              0\n",
              "against_bug            0\n",
              "against_dark           0\n",
              "against_dragon         0\n",
              "against_electric       0\n",
              "against_fairy          0\n",
              "against_fight          0\n",
              "against_fire           0\n",
              "against_flying         0\n",
              "against_ghost          0\n",
              "against_grass          0\n",
              "against_ground         0\n",
              "against_ice            0\n",
              "against_normal         0\n",
              "against_poison         0\n",
              "against_psychic        0\n",
              "against_rock           0\n",
              "against_steel          0\n",
              "against_water          0\n",
              "attack                 0\n",
              "base_egg_steps         0\n",
              "base_happiness         0\n",
              "base_total             0\n",
              "capture_rate           0\n",
              "classfication          0\n",
              "defense                0\n",
              "experience_growth      0\n",
              "height_m              20\n",
              "hp                     0\n",
              "japanese_name          0\n",
              "name                   0\n",
              "percentage_male       98\n",
              "pokedex_number         0\n",
              "sp_attack              0\n",
              "sp_defense             0\n",
              "speed                  0\n",
              "type1                  0\n",
              "type2                384\n",
              "weight_kg             20\n",
              "generation             0\n",
              "is_legendary           0\n",
              "dtype: int64"
            ]
          },
          "metadata": {},
          "execution_count": 161
        }
      ]
    },
    {
      "cell_type": "code",
      "source": [
        "# to check to the total sum of missing values\n",
        "df.isnull().sum().sum()\n"
      ],
      "metadata": {
        "colab": {
          "base_uri": "https://localhost:8080/"
        },
        "id": "KuwGATEhb9aS",
        "outputId": "fbb41951-f0ae-4cb3-add2-251706951158"
      },
      "execution_count": 162,
      "outputs": [
        {
          "output_type": "execute_result",
          "data": {
            "text/plain": [
              "522"
            ]
          },
          "metadata": {},
          "execution_count": 162
        }
      ]
    },
    {
      "cell_type": "code",
      "source": [
        "# print only columns containing some null values\n",
        "nan_cols = [i for i in df.columns if df[i].isnull().any()]\n",
        "print(nan_cols)\n",
        "\n",
        "# If necessary: Print only columns containing a threshold of available data i.e. 85%\n",
        "# nan_cols85 = [i for i in df.columns if df[i].isnull().sum() > 0.85*len(df)]"
      ],
      "metadata": {
        "colab": {
          "base_uri": "https://localhost:8080/"
        },
        "id": "n1aDtaXHXcEy",
        "outputId": "b66858a4-3e40-43c3-95b2-8784925821d1"
      },
      "execution_count": 163,
      "outputs": [
        {
          "output_type": "stream",
          "name": "stdout",
          "text": [
            "['height_m', 'percentage_male', 'type2', 'weight_kg']\n"
          ]
        }
      ]
    },
    {
      "cell_type": "code",
      "source": [
        "# Total nulls (where there is null) per column\n",
        "df.isnull().sum()[df.columns[df.isnull().any()]]"
      ],
      "metadata": {
        "colab": {
          "base_uri": "https://localhost:8080/"
        },
        "id": "nDnT2kDUmvZr",
        "outputId": "11527108-c409-4536-f3d9-e8f1f060ce74"
      },
      "execution_count": 164,
      "outputs": [
        {
          "output_type": "execute_result",
          "data": {
            "text/plain": [
              "height_m            20\n",
              "percentage_male     98\n",
              "type2              384\n",
              "weight_kg           20\n",
              "dtype: int64"
            ]
          },
          "metadata": {},
          "execution_count": 164
        }
      ]
    },
    {
      "cell_type": "code",
      "source": [
        "# Getting the percentage of the null count by column\n",
        "df[df.columns[df.isnull().any()]].isnull().sum() * 100 / df.shape[0]"
      ],
      "metadata": {
        "colab": {
          "base_uri": "https://localhost:8080/"
        },
        "id": "-dEnbbSTYzLL",
        "outputId": "7806d9b3-56aa-45ea-ce8d-f46566af07f5"
      },
      "execution_count": 165,
      "outputs": [
        {
          "output_type": "execute_result",
          "data": {
            "text/plain": [
              "height_m            2.496879\n",
              "percentage_male    12.234707\n",
              "type2              47.940075\n",
              "weight_kg           2.496879\n",
              "dtype: float64"
            ]
          },
          "metadata": {},
          "execution_count": 165
        }
      ]
    },
    {
      "cell_type": "markdown",
      "source": [
        "# Clean Data"
      ],
      "metadata": {
        "id": "IVVtWwW_s7IZ"
      }
    },
    {
      "cell_type": "code",
      "source": [
        "df.info()"
      ],
      "metadata": {
        "colab": {
          "base_uri": "https://localhost:8080/"
        },
        "id": "UOE_dom7wOS4",
        "outputId": "61206a81-4949-40ef-d668-0e4ed163942a"
      },
      "execution_count": 166,
      "outputs": [
        {
          "output_type": "stream",
          "name": "stdout",
          "text": [
            "<class 'pandas.core.frame.DataFrame'>\n",
            "RangeIndex: 801 entries, 0 to 800\n",
            "Data columns (total 41 columns):\n",
            " #   Column             Non-Null Count  Dtype  \n",
            "---  ------             --------------  -----  \n",
            " 0   abilities          801 non-null    object \n",
            " 1   against_bug        801 non-null    float64\n",
            " 2   against_dark       801 non-null    float64\n",
            " 3   against_dragon     801 non-null    float64\n",
            " 4   against_electric   801 non-null    float64\n",
            " 5   against_fairy      801 non-null    float64\n",
            " 6   against_fight      801 non-null    float64\n",
            " 7   against_fire       801 non-null    float64\n",
            " 8   against_flying     801 non-null    float64\n",
            " 9   against_ghost      801 non-null    float64\n",
            " 10  against_grass      801 non-null    float64\n",
            " 11  against_ground     801 non-null    float64\n",
            " 12  against_ice        801 non-null    float64\n",
            " 13  against_normal     801 non-null    float64\n",
            " 14  against_poison     801 non-null    float64\n",
            " 15  against_psychic    801 non-null    float64\n",
            " 16  against_rock       801 non-null    float64\n",
            " 17  against_steel      801 non-null    float64\n",
            " 18  against_water      801 non-null    float64\n",
            " 19  attack             801 non-null    int64  \n",
            " 20  base_egg_steps     801 non-null    int64  \n",
            " 21  base_happiness     801 non-null    int64  \n",
            " 22  base_total         801 non-null    int64  \n",
            " 23  capture_rate       801 non-null    object \n",
            " 24  classfication      801 non-null    object \n",
            " 25  defense            801 non-null    int64  \n",
            " 26  experience_growth  801 non-null    int64  \n",
            " 27  height_m           781 non-null    float64\n",
            " 28  hp                 801 non-null    int64  \n",
            " 29  japanese_name      801 non-null    object \n",
            " 30  name               801 non-null    object \n",
            " 31  percentage_male    703 non-null    float64\n",
            " 32  pokedex_number     801 non-null    int64  \n",
            " 33  sp_attack          801 non-null    int64  \n",
            " 34  sp_defense         801 non-null    int64  \n",
            " 35  speed              801 non-null    int64  \n",
            " 36  type1              801 non-null    object \n",
            " 37  type2              417 non-null    object \n",
            " 38  weight_kg          781 non-null    float64\n",
            " 39  generation         801 non-null    int64  \n",
            " 40  is_legendary       801 non-null    int64  \n",
            "dtypes: float64(21), int64(13), object(7)\n",
            "memory usage: 256.7+ KB\n"
          ]
        }
      ]
    },
    {
      "cell_type": "markdown",
      "source": [
        "Discovered that some columns have bad data"
      ],
      "metadata": {
        "id": "JMsi90FDs_TQ"
      }
    },
    {
      "cell_type": "code",
      "source": [
        "# check data before cleaning\n",
        "# series is an object type because one element is a string of 2 inputs '30 (Meteorite)255 (Core)'\n",
        "df.capture_rate.unique()"
      ],
      "metadata": {
        "colab": {
          "base_uri": "https://localhost:8080/"
        },
        "id": "STb8n9OnwixM",
        "outputId": "e2bc14e3-ea76-494e-d782-3773227fded3"
      },
      "execution_count": 167,
      "outputs": [
        {
          "output_type": "execute_result",
          "data": {
            "text/plain": [
              "array(['45', '255', '120', '127', '90', '190', '75', '235', '150', '25',\n",
              "       '170', '50', '200', '100', '180', '60', '225', '30', '35', '3',\n",
              "       '65', '70', '125', '205', '155', '145', '130', '140', '15', '220',\n",
              "       '160', '80', '55', '30 (Meteorite)255 (Core)'], dtype=object)"
            ]
          },
          "metadata": {},
          "execution_count": 167
        }
      ]
    },
    {
      "cell_type": "code",
      "source": [
        "df['capture_rate'].replace({'30 (Meteorite)255 (Core)': np.nan}, inplace=True)\n",
        "df['capture_rate'] = pd.to_numeric(df['capture_rate'])\n",
        "# inplace = True is used here, not advised as it mutates the original state of the df, but in this case, I use it with caution"
      ],
      "metadata": {
        "id": "8H8_sDT8wKmE"
      },
      "execution_count": 168,
      "outputs": []
    },
    {
      "cell_type": "code",
      "source": [
        "# after cleaning\n",
        "df.capture_rate.unique()"
      ],
      "metadata": {
        "colab": {
          "base_uri": "https://localhost:8080/"
        },
        "id": "H2th4dEpwlqY",
        "outputId": "ae60b92f-72e4-44af-c191-2add9bd4c006"
      },
      "execution_count": 169,
      "outputs": [
        {
          "output_type": "execute_result",
          "data": {
            "text/plain": [
              "array([ 45., 255., 120., 127.,  90., 190.,  75., 235., 150.,  25., 170.,\n",
              "        50., 200., 100., 180.,  60., 225.,  30.,  35.,   3.,  65.,  70.,\n",
              "       125., 205., 155., 145., 130., 140.,  15., 220., 160.,  80.,  55.,\n",
              "        nan])"
            ]
          },
          "metadata": {},
          "execution_count": 169
        }
      ]
    },
    {
      "cell_type": "code",
      "source": [
        "df.describe(include=\"all\").T"
      ],
      "metadata": {
        "colab": {
          "base_uri": "https://localhost:8080/",
          "height": 0
        },
        "id": "smQcNdA9DO64",
        "outputId": "98b2b96a-7342-4c3f-8cf1-6dd109feeb47"
      },
      "execution_count": 170,
      "outputs": [
        {
          "output_type": "execute_result",
          "data": {
            "text/plain": [
              "                   count unique               top freq            mean  \\\n",
              "abilities            801    482      ['Levitate']   29             NaN   \n",
              "against_bug        801.0    NaN               NaN  NaN        0.996255   \n",
              "against_dark       801.0    NaN               NaN  NaN        1.057116   \n",
              "against_dragon     801.0    NaN               NaN  NaN        0.968789   \n",
              "against_electric   801.0    NaN               NaN  NaN         1.07397   \n",
              "against_fairy      801.0    NaN               NaN  NaN        1.068976   \n",
              "against_fight      801.0    NaN               NaN  NaN        1.065543   \n",
              "against_fire       801.0    NaN               NaN  NaN        1.135456   \n",
              "against_flying     801.0    NaN               NaN  NaN        1.192884   \n",
              "against_ghost      801.0    NaN               NaN  NaN        0.985019   \n",
              "against_grass      801.0    NaN               NaN  NaN         1.03402   \n",
              "against_ground     801.0    NaN               NaN  NaN        1.098002   \n",
              "against_ice        801.0    NaN               NaN  NaN        1.208177   \n",
              "against_normal     801.0    NaN               NaN  NaN        0.887016   \n",
              "against_poison     801.0    NaN               NaN  NaN        0.975343   \n",
              "against_psychic    801.0    NaN               NaN  NaN        1.005306   \n",
              "against_rock       801.0    NaN               NaN  NaN        1.250312   \n",
              "against_steel      801.0    NaN               NaN  NaN        0.983458   \n",
              "against_water      801.0    NaN               NaN  NaN        1.058365   \n",
              "attack             801.0    NaN               NaN  NaN       77.857678   \n",
              "base_egg_steps     801.0    NaN               NaN  NaN     7191.011236   \n",
              "base_happiness     801.0    NaN               NaN  NaN       65.362047   \n",
              "base_total         801.0    NaN               NaN  NaN      428.377029   \n",
              "capture_rate       800.0    NaN               NaN  NaN        98.76125   \n",
              "classfication        801    588    Dragon Pokémon    8             NaN   \n",
              "defense            801.0    NaN               NaN  NaN       73.008739   \n",
              "experience_growth  801.0    NaN               NaN  NaN  1054995.905119   \n",
              "height_m           781.0    NaN               NaN  NaN        1.163892   \n",
              "hp                 801.0    NaN               NaN  NaN       68.958801   \n",
              "japanese_name        801    801  Fushigidaneフシギダネ    1             NaN   \n",
              "name                 801    801         Bulbasaur    1             NaN   \n",
              "percentage_male    703.0    NaN               NaN  NaN       55.155761   \n",
              "pokedex_number     801.0    NaN               NaN  NaN           401.0   \n",
              "sp_attack          801.0    NaN               NaN  NaN       71.305868   \n",
              "sp_defense         801.0    NaN               NaN  NaN       70.911361   \n",
              "speed              801.0    NaN               NaN  NaN       66.334582   \n",
              "type1                801     18             water  114             NaN   \n",
              "type2                417     18            flying   95             NaN   \n",
              "weight_kg          781.0    NaN               NaN  NaN       61.378105   \n",
              "generation         801.0    NaN               NaN  NaN        3.690387   \n",
              "is_legendary       801.0    NaN               NaN  NaN        0.087391   \n",
              "\n",
              "                             std       min        25%        50%        75%  \\\n",
              "abilities                    NaN       NaN        NaN        NaN        NaN   \n",
              "against_bug             0.597248      0.25        0.5        1.0        1.0   \n",
              "against_dark            0.438142      0.25        1.0        1.0        1.0   \n",
              "against_dragon          0.353058       0.0        1.0        1.0        1.0   \n",
              "against_electric        0.654962       0.0        0.5        1.0        1.0   \n",
              "against_fairy           0.522167      0.25        1.0        1.0        1.0   \n",
              "against_fight           0.717251       0.0        0.5        1.0        1.0   \n",
              "against_fire            0.691853      0.25        0.5        1.0        2.0   \n",
              "against_flying          0.604488      0.25        1.0        1.0        1.0   \n",
              "against_ghost           0.558256       0.0        1.0        1.0        1.0   \n",
              "against_grass           0.788896      0.25        0.5        1.0        1.0   \n",
              "against_ground          0.738818       0.0        1.0        1.0        1.0   \n",
              "against_ice             0.735356      0.25        0.5        1.0        2.0   \n",
              "against_normal          0.266106       0.0        1.0        1.0        1.0   \n",
              "against_poison          0.549375       0.0        0.5        1.0        1.0   \n",
              "against_psychic         0.495183       0.0        1.0        1.0        1.0   \n",
              "against_rock            0.697148      0.25        1.0        1.0        2.0   \n",
              "against_steel           0.500117      0.25        0.5        1.0        1.0   \n",
              "against_water           0.606562      0.25        0.5        1.0        1.0   \n",
              "attack                  32.15882       5.0       55.0       75.0      100.0   \n",
              "base_egg_steps       6558.220422    1280.0     5120.0     5120.0     6400.0   \n",
              "base_happiness         19.598948       0.0       70.0       70.0       70.0   \n",
              "base_total            119.203577     180.0      320.0      435.0      505.0   \n",
              "capture_rate           76.257825       3.0       45.0       60.0      170.0   \n",
              "classfication                NaN       NaN        NaN        NaN        NaN   \n",
              "defense                30.769159       5.0       50.0       70.0       90.0   \n",
              "experience_growth  160255.835096  600000.0  1000000.0  1000000.0  1059860.0   \n",
              "height_m                1.080326       0.1        0.6        1.0        1.5   \n",
              "hp                     26.576015       1.0       50.0       65.0       80.0   \n",
              "japanese_name                NaN       NaN        NaN        NaN        NaN   \n",
              "name                         NaN       NaN        NaN        NaN        NaN   \n",
              "percentage_male        20.261623       0.0       50.0       50.0       50.0   \n",
              "pokedex_number        231.373075       1.0      201.0      401.0      601.0   \n",
              "sp_attack              32.353826      10.0       45.0       65.0       91.0   \n",
              "sp_defense             27.942501      20.0       50.0       66.0       90.0   \n",
              "speed                  28.907662       5.0       45.0       65.0       85.0   \n",
              "type1                        NaN       NaN        NaN        NaN        NaN   \n",
              "type2                        NaN       NaN        NaN        NaN        NaN   \n",
              "weight_kg             109.354766       0.1        9.0       27.3       64.8   \n",
              "generation               1.93042       1.0        2.0        4.0        5.0   \n",
              "is_legendary            0.282583       0.0        0.0        0.0        0.0   \n",
              "\n",
              "                         max  \n",
              "abilities                NaN  \n",
              "against_bug              4.0  \n",
              "against_dark             4.0  \n",
              "against_dragon           2.0  \n",
              "against_electric         4.0  \n",
              "against_fairy            4.0  \n",
              "against_fight            4.0  \n",
              "against_fire             4.0  \n",
              "against_flying           4.0  \n",
              "against_ghost            4.0  \n",
              "against_grass            4.0  \n",
              "against_ground           4.0  \n",
              "against_ice              4.0  \n",
              "against_normal           1.0  \n",
              "against_poison           4.0  \n",
              "against_psychic          4.0  \n",
              "against_rock             4.0  \n",
              "against_steel            4.0  \n",
              "against_water            4.0  \n",
              "attack                 185.0  \n",
              "base_egg_steps       30720.0  \n",
              "base_happiness         140.0  \n",
              "base_total             780.0  \n",
              "capture_rate           255.0  \n",
              "classfication            NaN  \n",
              "defense                230.0  \n",
              "experience_growth  1640000.0  \n",
              "height_m                14.5  \n",
              "hp                     255.0  \n",
              "japanese_name            NaN  \n",
              "name                     NaN  \n",
              "percentage_male        100.0  \n",
              "pokedex_number         801.0  \n",
              "sp_attack              194.0  \n",
              "sp_defense             230.0  \n",
              "speed                  180.0  \n",
              "type1                    NaN  \n",
              "type2                    NaN  \n",
              "weight_kg              999.9  \n",
              "generation               7.0  \n",
              "is_legendary             1.0  "
            ],
            "text/html": [
              "\n",
              "  <div id=\"df-6baae539-0fcb-4e24-8eb8-21e54f4e721c\">\n",
              "    <div class=\"colab-df-container\">\n",
              "      <div>\n",
              "<style scoped>\n",
              "    .dataframe tbody tr th:only-of-type {\n",
              "        vertical-align: middle;\n",
              "    }\n",
              "\n",
              "    .dataframe tbody tr th {\n",
              "        vertical-align: top;\n",
              "    }\n",
              "\n",
              "    .dataframe thead th {\n",
              "        text-align: right;\n",
              "    }\n",
              "</style>\n",
              "<table border=\"1\" class=\"dataframe\">\n",
              "  <thead>\n",
              "    <tr style=\"text-align: right;\">\n",
              "      <th></th>\n",
              "      <th>count</th>\n",
              "      <th>unique</th>\n",
              "      <th>top</th>\n",
              "      <th>freq</th>\n",
              "      <th>mean</th>\n",
              "      <th>std</th>\n",
              "      <th>min</th>\n",
              "      <th>25%</th>\n",
              "      <th>50%</th>\n",
              "      <th>75%</th>\n",
              "      <th>max</th>\n",
              "    </tr>\n",
              "  </thead>\n",
              "  <tbody>\n",
              "    <tr>\n",
              "      <th>abilities</th>\n",
              "      <td>801</td>\n",
              "      <td>482</td>\n",
              "      <td>['Levitate']</td>\n",
              "      <td>29</td>\n",
              "      <td>NaN</td>\n",
              "      <td>NaN</td>\n",
              "      <td>NaN</td>\n",
              "      <td>NaN</td>\n",
              "      <td>NaN</td>\n",
              "      <td>NaN</td>\n",
              "      <td>NaN</td>\n",
              "    </tr>\n",
              "    <tr>\n",
              "      <th>against_bug</th>\n",
              "      <td>801.0</td>\n",
              "      <td>NaN</td>\n",
              "      <td>NaN</td>\n",
              "      <td>NaN</td>\n",
              "      <td>0.996255</td>\n",
              "      <td>0.597248</td>\n",
              "      <td>0.25</td>\n",
              "      <td>0.5</td>\n",
              "      <td>1.0</td>\n",
              "      <td>1.0</td>\n",
              "      <td>4.0</td>\n",
              "    </tr>\n",
              "    <tr>\n",
              "      <th>against_dark</th>\n",
              "      <td>801.0</td>\n",
              "      <td>NaN</td>\n",
              "      <td>NaN</td>\n",
              "      <td>NaN</td>\n",
              "      <td>1.057116</td>\n",
              "      <td>0.438142</td>\n",
              "      <td>0.25</td>\n",
              "      <td>1.0</td>\n",
              "      <td>1.0</td>\n",
              "      <td>1.0</td>\n",
              "      <td>4.0</td>\n",
              "    </tr>\n",
              "    <tr>\n",
              "      <th>against_dragon</th>\n",
              "      <td>801.0</td>\n",
              "      <td>NaN</td>\n",
              "      <td>NaN</td>\n",
              "      <td>NaN</td>\n",
              "      <td>0.968789</td>\n",
              "      <td>0.353058</td>\n",
              "      <td>0.0</td>\n",
              "      <td>1.0</td>\n",
              "      <td>1.0</td>\n",
              "      <td>1.0</td>\n",
              "      <td>2.0</td>\n",
              "    </tr>\n",
              "    <tr>\n",
              "      <th>against_electric</th>\n",
              "      <td>801.0</td>\n",
              "      <td>NaN</td>\n",
              "      <td>NaN</td>\n",
              "      <td>NaN</td>\n",
              "      <td>1.07397</td>\n",
              "      <td>0.654962</td>\n",
              "      <td>0.0</td>\n",
              "      <td>0.5</td>\n",
              "      <td>1.0</td>\n",
              "      <td>1.0</td>\n",
              "      <td>4.0</td>\n",
              "    </tr>\n",
              "    <tr>\n",
              "      <th>against_fairy</th>\n",
              "      <td>801.0</td>\n",
              "      <td>NaN</td>\n",
              "      <td>NaN</td>\n",
              "      <td>NaN</td>\n",
              "      <td>1.068976</td>\n",
              "      <td>0.522167</td>\n",
              "      <td>0.25</td>\n",
              "      <td>1.0</td>\n",
              "      <td>1.0</td>\n",
              "      <td>1.0</td>\n",
              "      <td>4.0</td>\n",
              "    </tr>\n",
              "    <tr>\n",
              "      <th>against_fight</th>\n",
              "      <td>801.0</td>\n",
              "      <td>NaN</td>\n",
              "      <td>NaN</td>\n",
              "      <td>NaN</td>\n",
              "      <td>1.065543</td>\n",
              "      <td>0.717251</td>\n",
              "      <td>0.0</td>\n",
              "      <td>0.5</td>\n",
              "      <td>1.0</td>\n",
              "      <td>1.0</td>\n",
              "      <td>4.0</td>\n",
              "    </tr>\n",
              "    <tr>\n",
              "      <th>against_fire</th>\n",
              "      <td>801.0</td>\n",
              "      <td>NaN</td>\n",
              "      <td>NaN</td>\n",
              "      <td>NaN</td>\n",
              "      <td>1.135456</td>\n",
              "      <td>0.691853</td>\n",
              "      <td>0.25</td>\n",
              "      <td>0.5</td>\n",
              "      <td>1.0</td>\n",
              "      <td>2.0</td>\n",
              "      <td>4.0</td>\n",
              "    </tr>\n",
              "    <tr>\n",
              "      <th>against_flying</th>\n",
              "      <td>801.0</td>\n",
              "      <td>NaN</td>\n",
              "      <td>NaN</td>\n",
              "      <td>NaN</td>\n",
              "      <td>1.192884</td>\n",
              "      <td>0.604488</td>\n",
              "      <td>0.25</td>\n",
              "      <td>1.0</td>\n",
              "      <td>1.0</td>\n",
              "      <td>1.0</td>\n",
              "      <td>4.0</td>\n",
              "    </tr>\n",
              "    <tr>\n",
              "      <th>against_ghost</th>\n",
              "      <td>801.0</td>\n",
              "      <td>NaN</td>\n",
              "      <td>NaN</td>\n",
              "      <td>NaN</td>\n",
              "      <td>0.985019</td>\n",
              "      <td>0.558256</td>\n",
              "      <td>0.0</td>\n",
              "      <td>1.0</td>\n",
              "      <td>1.0</td>\n",
              "      <td>1.0</td>\n",
              "      <td>4.0</td>\n",
              "    </tr>\n",
              "    <tr>\n",
              "      <th>against_grass</th>\n",
              "      <td>801.0</td>\n",
              "      <td>NaN</td>\n",
              "      <td>NaN</td>\n",
              "      <td>NaN</td>\n",
              "      <td>1.03402</td>\n",
              "      <td>0.788896</td>\n",
              "      <td>0.25</td>\n",
              "      <td>0.5</td>\n",
              "      <td>1.0</td>\n",
              "      <td>1.0</td>\n",
              "      <td>4.0</td>\n",
              "    </tr>\n",
              "    <tr>\n",
              "      <th>against_ground</th>\n",
              "      <td>801.0</td>\n",
              "      <td>NaN</td>\n",
              "      <td>NaN</td>\n",
              "      <td>NaN</td>\n",
              "      <td>1.098002</td>\n",
              "      <td>0.738818</td>\n",
              "      <td>0.0</td>\n",
              "      <td>1.0</td>\n",
              "      <td>1.0</td>\n",
              "      <td>1.0</td>\n",
              "      <td>4.0</td>\n",
              "    </tr>\n",
              "    <tr>\n",
              "      <th>against_ice</th>\n",
              "      <td>801.0</td>\n",
              "      <td>NaN</td>\n",
              "      <td>NaN</td>\n",
              "      <td>NaN</td>\n",
              "      <td>1.208177</td>\n",
              "      <td>0.735356</td>\n",
              "      <td>0.25</td>\n",
              "      <td>0.5</td>\n",
              "      <td>1.0</td>\n",
              "      <td>2.0</td>\n",
              "      <td>4.0</td>\n",
              "    </tr>\n",
              "    <tr>\n",
              "      <th>against_normal</th>\n",
              "      <td>801.0</td>\n",
              "      <td>NaN</td>\n",
              "      <td>NaN</td>\n",
              "      <td>NaN</td>\n",
              "      <td>0.887016</td>\n",
              "      <td>0.266106</td>\n",
              "      <td>0.0</td>\n",
              "      <td>1.0</td>\n",
              "      <td>1.0</td>\n",
              "      <td>1.0</td>\n",
              "      <td>1.0</td>\n",
              "    </tr>\n",
              "    <tr>\n",
              "      <th>against_poison</th>\n",
              "      <td>801.0</td>\n",
              "      <td>NaN</td>\n",
              "      <td>NaN</td>\n",
              "      <td>NaN</td>\n",
              "      <td>0.975343</td>\n",
              "      <td>0.549375</td>\n",
              "      <td>0.0</td>\n",
              "      <td>0.5</td>\n",
              "      <td>1.0</td>\n",
              "      <td>1.0</td>\n",
              "      <td>4.0</td>\n",
              "    </tr>\n",
              "    <tr>\n",
              "      <th>against_psychic</th>\n",
              "      <td>801.0</td>\n",
              "      <td>NaN</td>\n",
              "      <td>NaN</td>\n",
              "      <td>NaN</td>\n",
              "      <td>1.005306</td>\n",
              "      <td>0.495183</td>\n",
              "      <td>0.0</td>\n",
              "      <td>1.0</td>\n",
              "      <td>1.0</td>\n",
              "      <td>1.0</td>\n",
              "      <td>4.0</td>\n",
              "    </tr>\n",
              "    <tr>\n",
              "      <th>against_rock</th>\n",
              "      <td>801.0</td>\n",
              "      <td>NaN</td>\n",
              "      <td>NaN</td>\n",
              "      <td>NaN</td>\n",
              "      <td>1.250312</td>\n",
              "      <td>0.697148</td>\n",
              "      <td>0.25</td>\n",
              "      <td>1.0</td>\n",
              "      <td>1.0</td>\n",
              "      <td>2.0</td>\n",
              "      <td>4.0</td>\n",
              "    </tr>\n",
              "    <tr>\n",
              "      <th>against_steel</th>\n",
              "      <td>801.0</td>\n",
              "      <td>NaN</td>\n",
              "      <td>NaN</td>\n",
              "      <td>NaN</td>\n",
              "      <td>0.983458</td>\n",
              "      <td>0.500117</td>\n",
              "      <td>0.25</td>\n",
              "      <td>0.5</td>\n",
              "      <td>1.0</td>\n",
              "      <td>1.0</td>\n",
              "      <td>4.0</td>\n",
              "    </tr>\n",
              "    <tr>\n",
              "      <th>against_water</th>\n",
              "      <td>801.0</td>\n",
              "      <td>NaN</td>\n",
              "      <td>NaN</td>\n",
              "      <td>NaN</td>\n",
              "      <td>1.058365</td>\n",
              "      <td>0.606562</td>\n",
              "      <td>0.25</td>\n",
              "      <td>0.5</td>\n",
              "      <td>1.0</td>\n",
              "      <td>1.0</td>\n",
              "      <td>4.0</td>\n",
              "    </tr>\n",
              "    <tr>\n",
              "      <th>attack</th>\n",
              "      <td>801.0</td>\n",
              "      <td>NaN</td>\n",
              "      <td>NaN</td>\n",
              "      <td>NaN</td>\n",
              "      <td>77.857678</td>\n",
              "      <td>32.15882</td>\n",
              "      <td>5.0</td>\n",
              "      <td>55.0</td>\n",
              "      <td>75.0</td>\n",
              "      <td>100.0</td>\n",
              "      <td>185.0</td>\n",
              "    </tr>\n",
              "    <tr>\n",
              "      <th>base_egg_steps</th>\n",
              "      <td>801.0</td>\n",
              "      <td>NaN</td>\n",
              "      <td>NaN</td>\n",
              "      <td>NaN</td>\n",
              "      <td>7191.011236</td>\n",
              "      <td>6558.220422</td>\n",
              "      <td>1280.0</td>\n",
              "      <td>5120.0</td>\n",
              "      <td>5120.0</td>\n",
              "      <td>6400.0</td>\n",
              "      <td>30720.0</td>\n",
              "    </tr>\n",
              "    <tr>\n",
              "      <th>base_happiness</th>\n",
              "      <td>801.0</td>\n",
              "      <td>NaN</td>\n",
              "      <td>NaN</td>\n",
              "      <td>NaN</td>\n",
              "      <td>65.362047</td>\n",
              "      <td>19.598948</td>\n",
              "      <td>0.0</td>\n",
              "      <td>70.0</td>\n",
              "      <td>70.0</td>\n",
              "      <td>70.0</td>\n",
              "      <td>140.0</td>\n",
              "    </tr>\n",
              "    <tr>\n",
              "      <th>base_total</th>\n",
              "      <td>801.0</td>\n",
              "      <td>NaN</td>\n",
              "      <td>NaN</td>\n",
              "      <td>NaN</td>\n",
              "      <td>428.377029</td>\n",
              "      <td>119.203577</td>\n",
              "      <td>180.0</td>\n",
              "      <td>320.0</td>\n",
              "      <td>435.0</td>\n",
              "      <td>505.0</td>\n",
              "      <td>780.0</td>\n",
              "    </tr>\n",
              "    <tr>\n",
              "      <th>capture_rate</th>\n",
              "      <td>800.0</td>\n",
              "      <td>NaN</td>\n",
              "      <td>NaN</td>\n",
              "      <td>NaN</td>\n",
              "      <td>98.76125</td>\n",
              "      <td>76.257825</td>\n",
              "      <td>3.0</td>\n",
              "      <td>45.0</td>\n",
              "      <td>60.0</td>\n",
              "      <td>170.0</td>\n",
              "      <td>255.0</td>\n",
              "    </tr>\n",
              "    <tr>\n",
              "      <th>classfication</th>\n",
              "      <td>801</td>\n",
              "      <td>588</td>\n",
              "      <td>Dragon Pokémon</td>\n",
              "      <td>8</td>\n",
              "      <td>NaN</td>\n",
              "      <td>NaN</td>\n",
              "      <td>NaN</td>\n",
              "      <td>NaN</td>\n",
              "      <td>NaN</td>\n",
              "      <td>NaN</td>\n",
              "      <td>NaN</td>\n",
              "    </tr>\n",
              "    <tr>\n",
              "      <th>defense</th>\n",
              "      <td>801.0</td>\n",
              "      <td>NaN</td>\n",
              "      <td>NaN</td>\n",
              "      <td>NaN</td>\n",
              "      <td>73.008739</td>\n",
              "      <td>30.769159</td>\n",
              "      <td>5.0</td>\n",
              "      <td>50.0</td>\n",
              "      <td>70.0</td>\n",
              "      <td>90.0</td>\n",
              "      <td>230.0</td>\n",
              "    </tr>\n",
              "    <tr>\n",
              "      <th>experience_growth</th>\n",
              "      <td>801.0</td>\n",
              "      <td>NaN</td>\n",
              "      <td>NaN</td>\n",
              "      <td>NaN</td>\n",
              "      <td>1054995.905119</td>\n",
              "      <td>160255.835096</td>\n",
              "      <td>600000.0</td>\n",
              "      <td>1000000.0</td>\n",
              "      <td>1000000.0</td>\n",
              "      <td>1059860.0</td>\n",
              "      <td>1640000.0</td>\n",
              "    </tr>\n",
              "    <tr>\n",
              "      <th>height_m</th>\n",
              "      <td>781.0</td>\n",
              "      <td>NaN</td>\n",
              "      <td>NaN</td>\n",
              "      <td>NaN</td>\n",
              "      <td>1.163892</td>\n",
              "      <td>1.080326</td>\n",
              "      <td>0.1</td>\n",
              "      <td>0.6</td>\n",
              "      <td>1.0</td>\n",
              "      <td>1.5</td>\n",
              "      <td>14.5</td>\n",
              "    </tr>\n",
              "    <tr>\n",
              "      <th>hp</th>\n",
              "      <td>801.0</td>\n",
              "      <td>NaN</td>\n",
              "      <td>NaN</td>\n",
              "      <td>NaN</td>\n",
              "      <td>68.958801</td>\n",
              "      <td>26.576015</td>\n",
              "      <td>1.0</td>\n",
              "      <td>50.0</td>\n",
              "      <td>65.0</td>\n",
              "      <td>80.0</td>\n",
              "      <td>255.0</td>\n",
              "    </tr>\n",
              "    <tr>\n",
              "      <th>japanese_name</th>\n",
              "      <td>801</td>\n",
              "      <td>801</td>\n",
              "      <td>Fushigidaneフシギダネ</td>\n",
              "      <td>1</td>\n",
              "      <td>NaN</td>\n",
              "      <td>NaN</td>\n",
              "      <td>NaN</td>\n",
              "      <td>NaN</td>\n",
              "      <td>NaN</td>\n",
              "      <td>NaN</td>\n",
              "      <td>NaN</td>\n",
              "    </tr>\n",
              "    <tr>\n",
              "      <th>name</th>\n",
              "      <td>801</td>\n",
              "      <td>801</td>\n",
              "      <td>Bulbasaur</td>\n",
              "      <td>1</td>\n",
              "      <td>NaN</td>\n",
              "      <td>NaN</td>\n",
              "      <td>NaN</td>\n",
              "      <td>NaN</td>\n",
              "      <td>NaN</td>\n",
              "      <td>NaN</td>\n",
              "      <td>NaN</td>\n",
              "    </tr>\n",
              "    <tr>\n",
              "      <th>percentage_male</th>\n",
              "      <td>703.0</td>\n",
              "      <td>NaN</td>\n",
              "      <td>NaN</td>\n",
              "      <td>NaN</td>\n",
              "      <td>55.155761</td>\n",
              "      <td>20.261623</td>\n",
              "      <td>0.0</td>\n",
              "      <td>50.0</td>\n",
              "      <td>50.0</td>\n",
              "      <td>50.0</td>\n",
              "      <td>100.0</td>\n",
              "    </tr>\n",
              "    <tr>\n",
              "      <th>pokedex_number</th>\n",
              "      <td>801.0</td>\n",
              "      <td>NaN</td>\n",
              "      <td>NaN</td>\n",
              "      <td>NaN</td>\n",
              "      <td>401.0</td>\n",
              "      <td>231.373075</td>\n",
              "      <td>1.0</td>\n",
              "      <td>201.0</td>\n",
              "      <td>401.0</td>\n",
              "      <td>601.0</td>\n",
              "      <td>801.0</td>\n",
              "    </tr>\n",
              "    <tr>\n",
              "      <th>sp_attack</th>\n",
              "      <td>801.0</td>\n",
              "      <td>NaN</td>\n",
              "      <td>NaN</td>\n",
              "      <td>NaN</td>\n",
              "      <td>71.305868</td>\n",
              "      <td>32.353826</td>\n",
              "      <td>10.0</td>\n",
              "      <td>45.0</td>\n",
              "      <td>65.0</td>\n",
              "      <td>91.0</td>\n",
              "      <td>194.0</td>\n",
              "    </tr>\n",
              "    <tr>\n",
              "      <th>sp_defense</th>\n",
              "      <td>801.0</td>\n",
              "      <td>NaN</td>\n",
              "      <td>NaN</td>\n",
              "      <td>NaN</td>\n",
              "      <td>70.911361</td>\n",
              "      <td>27.942501</td>\n",
              "      <td>20.0</td>\n",
              "      <td>50.0</td>\n",
              "      <td>66.0</td>\n",
              "      <td>90.0</td>\n",
              "      <td>230.0</td>\n",
              "    </tr>\n",
              "    <tr>\n",
              "      <th>speed</th>\n",
              "      <td>801.0</td>\n",
              "      <td>NaN</td>\n",
              "      <td>NaN</td>\n",
              "      <td>NaN</td>\n",
              "      <td>66.334582</td>\n",
              "      <td>28.907662</td>\n",
              "      <td>5.0</td>\n",
              "      <td>45.0</td>\n",
              "      <td>65.0</td>\n",
              "      <td>85.0</td>\n",
              "      <td>180.0</td>\n",
              "    </tr>\n",
              "    <tr>\n",
              "      <th>type1</th>\n",
              "      <td>801</td>\n",
              "      <td>18</td>\n",
              "      <td>water</td>\n",
              "      <td>114</td>\n",
              "      <td>NaN</td>\n",
              "      <td>NaN</td>\n",
              "      <td>NaN</td>\n",
              "      <td>NaN</td>\n",
              "      <td>NaN</td>\n",
              "      <td>NaN</td>\n",
              "      <td>NaN</td>\n",
              "    </tr>\n",
              "    <tr>\n",
              "      <th>type2</th>\n",
              "      <td>417</td>\n",
              "      <td>18</td>\n",
              "      <td>flying</td>\n",
              "      <td>95</td>\n",
              "      <td>NaN</td>\n",
              "      <td>NaN</td>\n",
              "      <td>NaN</td>\n",
              "      <td>NaN</td>\n",
              "      <td>NaN</td>\n",
              "      <td>NaN</td>\n",
              "      <td>NaN</td>\n",
              "    </tr>\n",
              "    <tr>\n",
              "      <th>weight_kg</th>\n",
              "      <td>781.0</td>\n",
              "      <td>NaN</td>\n",
              "      <td>NaN</td>\n",
              "      <td>NaN</td>\n",
              "      <td>61.378105</td>\n",
              "      <td>109.354766</td>\n",
              "      <td>0.1</td>\n",
              "      <td>9.0</td>\n",
              "      <td>27.3</td>\n",
              "      <td>64.8</td>\n",
              "      <td>999.9</td>\n",
              "    </tr>\n",
              "    <tr>\n",
              "      <th>generation</th>\n",
              "      <td>801.0</td>\n",
              "      <td>NaN</td>\n",
              "      <td>NaN</td>\n",
              "      <td>NaN</td>\n",
              "      <td>3.690387</td>\n",
              "      <td>1.93042</td>\n",
              "      <td>1.0</td>\n",
              "      <td>2.0</td>\n",
              "      <td>4.0</td>\n",
              "      <td>5.0</td>\n",
              "      <td>7.0</td>\n",
              "    </tr>\n",
              "    <tr>\n",
              "      <th>is_legendary</th>\n",
              "      <td>801.0</td>\n",
              "      <td>NaN</td>\n",
              "      <td>NaN</td>\n",
              "      <td>NaN</td>\n",
              "      <td>0.087391</td>\n",
              "      <td>0.282583</td>\n",
              "      <td>0.0</td>\n",
              "      <td>0.0</td>\n",
              "      <td>0.0</td>\n",
              "      <td>0.0</td>\n",
              "      <td>1.0</td>\n",
              "    </tr>\n",
              "  </tbody>\n",
              "</table>\n",
              "</div>\n",
              "      <button class=\"colab-df-convert\" onclick=\"convertToInteractive('df-6baae539-0fcb-4e24-8eb8-21e54f4e721c')\"\n",
              "              title=\"Convert this dataframe to an interactive table.\"\n",
              "              style=\"display:none;\">\n",
              "        \n",
              "  <svg xmlns=\"http://www.w3.org/2000/svg\" height=\"24px\"viewBox=\"0 0 24 24\"\n",
              "       width=\"24px\">\n",
              "    <path d=\"M0 0h24v24H0V0z\" fill=\"none\"/>\n",
              "    <path d=\"M18.56 5.44l.94 2.06.94-2.06 2.06-.94-2.06-.94-.94-2.06-.94 2.06-2.06.94zm-11 1L8.5 8.5l.94-2.06 2.06-.94-2.06-.94L8.5 2.5l-.94 2.06-2.06.94zm10 10l.94 2.06.94-2.06 2.06-.94-2.06-.94-.94-2.06-.94 2.06-2.06.94z\"/><path d=\"M17.41 7.96l-1.37-1.37c-.4-.4-.92-.59-1.43-.59-.52 0-1.04.2-1.43.59L10.3 9.45l-7.72 7.72c-.78.78-.78 2.05 0 2.83L4 21.41c.39.39.9.59 1.41.59.51 0 1.02-.2 1.41-.59l7.78-7.78 2.81-2.81c.8-.78.8-2.07 0-2.86zM5.41 20L4 18.59l7.72-7.72 1.47 1.35L5.41 20z\"/>\n",
              "  </svg>\n",
              "      </button>\n",
              "      \n",
              "  <style>\n",
              "    .colab-df-container {\n",
              "      display:flex;\n",
              "      flex-wrap:wrap;\n",
              "      gap: 12px;\n",
              "    }\n",
              "\n",
              "    .colab-df-convert {\n",
              "      background-color: #E8F0FE;\n",
              "      border: none;\n",
              "      border-radius: 50%;\n",
              "      cursor: pointer;\n",
              "      display: none;\n",
              "      fill: #1967D2;\n",
              "      height: 32px;\n",
              "      padding: 0 0 0 0;\n",
              "      width: 32px;\n",
              "    }\n",
              "\n",
              "    .colab-df-convert:hover {\n",
              "      background-color: #E2EBFA;\n",
              "      box-shadow: 0px 1px 2px rgba(60, 64, 67, 0.3), 0px 1px 3px 1px rgba(60, 64, 67, 0.15);\n",
              "      fill: #174EA6;\n",
              "    }\n",
              "\n",
              "    [theme=dark] .colab-df-convert {\n",
              "      background-color: #3B4455;\n",
              "      fill: #D2E3FC;\n",
              "    }\n",
              "\n",
              "    [theme=dark] .colab-df-convert:hover {\n",
              "      background-color: #434B5C;\n",
              "      box-shadow: 0px 1px 3px 1px rgba(0, 0, 0, 0.15);\n",
              "      filter: drop-shadow(0px 1px 2px rgba(0, 0, 0, 0.3));\n",
              "      fill: #FFFFFF;\n",
              "    }\n",
              "  </style>\n",
              "\n",
              "      <script>\n",
              "        const buttonEl =\n",
              "          document.querySelector('#df-6baae539-0fcb-4e24-8eb8-21e54f4e721c button.colab-df-convert');\n",
              "        buttonEl.style.display =\n",
              "          google.colab.kernel.accessAllowed ? 'block' : 'none';\n",
              "\n",
              "        async function convertToInteractive(key) {\n",
              "          const element = document.querySelector('#df-6baae539-0fcb-4e24-8eb8-21e54f4e721c');\n",
              "          const dataTable =\n",
              "            await google.colab.kernel.invokeFunction('convertToInteractive',\n",
              "                                                     [key], {});\n",
              "          if (!dataTable) return;\n",
              "\n",
              "          const docLinkHtml = 'Like what you see? Visit the ' +\n",
              "            '<a target=\"_blank\" href=https://colab.research.google.com/notebooks/data_table.ipynb>data table notebook</a>'\n",
              "            + ' to learn more about interactive tables.';\n",
              "          element.innerHTML = '';\n",
              "          dataTable['output_type'] = 'display_data';\n",
              "          await google.colab.output.renderOutput(dataTable, element);\n",
              "          const docLink = document.createElement('div');\n",
              "          docLink.innerHTML = docLinkHtml;\n",
              "          element.appendChild(docLink);\n",
              "        }\n",
              "      </script>\n",
              "    </div>\n",
              "  </div>\n",
              "  "
            ]
          },
          "metadata": {},
          "execution_count": 170
        }
      ]
    },
    {
      "cell_type": "markdown",
      "source": [
        "# Explore Data"
      ],
      "metadata": {
        "id": "sNlG2Of27epd"
      }
    },
    {
      "cell_type": "markdown",
      "source": [
        "Basic data exploration"
      ],
      "metadata": {
        "id": "Y04x08GGd12t"
      }
    },
    {
      "cell_type": "code",
      "source": [
        "#Some basic descriptive outputs\n",
        "print(f'Unique primary types: {df[\"type1\"].nunique()}')\n",
        "print(f'Unique secondary types: {df[\"type2\"].nunique()}')\n",
        "print(f'Unique generations: {df[\"generation\"].nunique()}')\n",
        "print(f'Unique names: {df[\"name\"].nunique()}')\n",
        "print(f'Unique abilities: {df[\"abilities\"].nunique()}')\n",
        "print(f'Unique classfication: {df[\"classfication\"].nunique()}')"
      ],
      "metadata": {
        "id": "700h7c6aeWKQ"
      },
      "execution_count": null,
      "outputs": []
    },
    {
      "cell_type": "code",
      "source": [
        "# How many legendary Pokemon are there? (There are 70 legendary, 731 non-legendary)\n",
        "legendary_cnt = df.groupby(\"is_legendary\")[\"name\"].count()\n",
        "legendary_cnt.plot.bar()"
      ],
      "metadata": {
        "id": "Y9s5VheM-rIF"
      },
      "execution_count": null,
      "outputs": []
    },
    {
      "cell_type": "code",
      "source": [
        "# How many generations of Pokemon are there? \n",
        "generation_cnt = df.groupby(\"generation\")[\"name\"].count()\n",
        "print(generation_cnt)"
      ],
      "metadata": {
        "id": "YkIjLiKISYOk"
      },
      "execution_count": null,
      "outputs": []
    },
    {
      "cell_type": "code",
      "source": [
        "# Create a new column for Base Total\n",
        "df_short = df.filter(['name','pokedex_number','is_legendary','generation','base_total','hp','sp_attack', 'attack', 'speed','sp_defense','defense', 'weight_kg', 'height_m'], axis=1)\n",
        "print(df_short)"
      ],
      "metadata": {
        "id": "gBGtg2FShhO8"
      },
      "execution_count": null,
      "outputs": []
    },
    {
      "cell_type": "code",
      "source": [
        "# Top 10 by weight\n",
        "top_hp = df_short.sort_values(by=['weight_kg'], ascending=False)\n",
        "top_hp.head(10)"
      ],
      "metadata": {
        "id": "V-q0b3HfN43q"
      },
      "execution_count": null,
      "outputs": []
    },
    {
      "cell_type": "code",
      "source": [
        "df_short['BMI'] = df_short.apply(lambda bmi: bmi['weight_kg']/(bmi['height_m']**2), axis=1)\n",
        "print(df_short)"
      ],
      "metadata": {
        "id": "hHjrItT16nk8"
      },
      "execution_count": null,
      "outputs": []
    },
    {
      "cell_type": "markdown",
      "source": [
        "# Data Visualization\n"
      ],
      "metadata": {
        "id": "0-fX1Gs0fYiD"
      }
    },
    {
      "cell_type": "code",
      "source": [
        "# How many legendary Pokemon are there? (There are 70 legendary, 731 non-legendary)\n",
        "n_by_legendary = df.groupby(\"is_legendary\")[\"name\"].count()\n",
        "print(n_by_legendary)"
      ],
      "metadata": {
        "id": "c01oODUIgemv"
      },
      "execution_count": null,
      "outputs": []
    },
    {
      "cell_type": "code",
      "source": [
        "# Create two dataframes, one for Legendary Pokemon, and one for Non-Legendary Pokemon\n",
        "leg_df = df[(df.is_legendary == 1)]\n",
        "non_leg_df = df[(df.is_legendary == 0)]\n",
        "#leg_df.head()"
      ],
      "metadata": {
        "id": "CNUtwtTWgiy5"
      },
      "execution_count": 215,
      "outputs": []
    },
    {
      "cell_type": "code",
      "source": [
        "# Row count of legendary df\n",
        "leg_df.shape[0]\n",
        "# = 70"
      ],
      "metadata": {
        "id": "WlZenTZXmd7o"
      },
      "execution_count": null,
      "outputs": []
    },
    {
      "cell_type": "code",
      "source": [
        "# Row count of non-legendary Pokemon\n",
        "non_leg_df.shape[0]\n",
        "# = 731"
      ],
      "metadata": {
        "id": "c5SY4uAkmlY_"
      },
      "execution_count": null,
      "outputs": []
    },
    {
      "cell_type": "code",
      "source": [
        "# Average capture rate of legendary pokemon\n",
        "#leg_df['capture_rate'].mean()\n",
        "\n",
        "rounded_mean_decimal_0 = round(leg_df['capture_rate'].mean(),1) # specified decimal place as 0\n",
        "print(rounded_mean_decimal_0)\n"
      ],
      "metadata": {
        "id": "S8-3H-ExpPiV"
      },
      "execution_count": null,
      "outputs": []
    },
    {
      "cell_type": "markdown",
      "source": [
        "Countplots"
      ],
      "metadata": {
        "id": "YpdmvcWpLx04"
      }
    },
    {
      "cell_type": "code",
      "source": [
        "## Chart 1.0: Pokemon by Generation\n",
        "\n",
        "# Set variable for tick labels\n",
        "generations = [f'Gen {g}' for g in df_short.generation.unique()]\n",
        "\n",
        "# Create countplot in seaborn\n",
        "sns.set(rc={'figure.figsize':(11.7,8.27)})\n",
        "ax = sns.countplot(y=df_short.generation, orient='v', color='darkorchid')\n",
        "\n",
        "# Set lables and title\n",
        "ax.set_xlabel(xlabel='Count of Pokemon')\n",
        "ax.set_xticklabels([])\n",
        "\n",
        "ax.set_ylabel(ylabel='')\n",
        "ax.set_yticklabels(generations, size=12)\n",
        "\n",
        "ax.set_title('Pokémon by Generation', loc='left', pad=20)\n",
        "\n",
        "# Set spines (optional)\n",
        "sns.despine(top=True, right=True, left=True, bottom=True)\n",
        "\n",
        "# Annotate counts of Pokemon per generation on plot\n",
        "for index, value in enumerate(df_short.generation.value_counts().sort_index()): \n",
        "    plt.annotate(f'{value}', xy=(value + 2, index), color='black') "
      ],
      "metadata": {
        "id": "L_1_guKAjtxX"
      },
      "execution_count": null,
      "outputs": []
    },
    {
      "cell_type": "code",
      "source": [
        "## Chart 2.0: Pokemon by Primary Type\n",
        "\n",
        "# Create countplot in seaborn\n",
        "sns.set(rc={'figure.figsize':(11.7,8.27)})\n",
        "ax = sns.countplot(y = df.type1, orient='v', color='darkorchid', order = df['type1'].value_counts().index)\n",
        "\n",
        "# Set lables and title\n",
        "ax.set_xlabel(xlabel='Count of Pokémon Primary Types')\n",
        "ax.set_xticklabels([])\n",
        "\n",
        "ax.set_ylabel(ylabel='')\n",
        "#ax.set_yticklabels(labels, size = 10)\n",
        "\n",
        "ax.set_title('Pokémon by Primary Type', loc='left', pad=20)\n",
        "\n",
        "# Set spines (optional)\n",
        "sns.despine(top=True, right=True, left=True, bottom=True)\n",
        "\n",
        "# Annotate counts of Pokemon per generation on plot\n",
        "for index, value in enumerate(df.type1.value_counts()): \n",
        "    plt.annotate(f'{value}', xy=(value + 3, index), color='black') "
      ],
      "metadata": {
        "id": "yCF4686zf5uc"
      },
      "execution_count": null,
      "outputs": []
    },
    {
      "cell_type": "markdown",
      "source": [
        "Looking at Fairy and Dark types"
      ],
      "metadata": {
        "id": "2lZCWzHFLXs9"
      }
    },
    {
      "cell_type": "code",
      "source": [
        "# Counts of dark and fairy by legendary\n",
        "darkfairy.groupby([\"type1\", \"is_legendary\"])['name'].count()"
      ],
      "metadata": {
        "colab": {
          "base_uri": "https://localhost:8080/"
        },
        "id": "Ku0r3Dvbm0tq",
        "outputId": "dd2d7988-07d5-4f99-c260-89b678bd8ed1"
      },
      "execution_count": 234,
      "outputs": [
        {
          "output_type": "execute_result",
          "data": {
            "text/plain": [
              "type1  is_legendary\n",
              "dark   0               26\n",
              "       1                3\n",
              "fairy  0               17\n",
              "       1                1\n",
              "Name: name, dtype: int64"
            ]
          },
          "metadata": {},
          "execution_count": 234
        }
      ]
    },
    {
      "cell_type": "code",
      "source": [
        "# Counts of dark and fairy by generation\n",
        "darkfairy.groupby([\"type1\", \"generation\"])['name'].count()"
      ],
      "metadata": {
        "colab": {
          "base_uri": "https://localhost:8080/"
        },
        "id": "kBG1MHeRC_hS",
        "outputId": "ecdf5666-0d65-4b47-8aa8-89ed7015eb79"
      },
      "execution_count": 235,
      "outputs": [
        {
          "output_type": "execute_result",
          "data": {
            "text/plain": [
              "type1  generation\n",
              "dark   2              5\n",
              "       3              4\n",
              "       4              3\n",
              "       5             13\n",
              "       6              3\n",
              "       7              1\n",
              "fairy  1              2\n",
              "       2              5\n",
              "       4              1\n",
              "       6              9\n",
              "       7              1\n",
              "Name: name, dtype: int64"
            ]
          },
          "metadata": {},
          "execution_count": 235
        }
      ]
    },
    {
      "cell_type": "code",
      "source": [
        "# Dataframe filtering for only fairy and dark type1              \n",
        "darkfairy = df[(df['type1'] == 'fairy') | (df['type1'] == 'dark' )]\n",
        "\n",
        "# Plotting Fairy and Dark\n",
        "sns.set_style('white')\n",
        "\n",
        "grid = sns.FacetGrid(darkfairy, col = 'generation' , row = 'type1', hue = \"is_legendary\", palette=['hotpink', 'blue'])\n",
        "grid.map_dataframe(sns.scatterplot, y= \"base_total\", x=\"base_happiness\")\n",
        "\n",
        "# Add formatting\n",
        "grid.set_axis_labels('Base Happiness', 'Base Total')\n",
        "grid.set_titles(col_template = 'Generation = {col_name}', row_template ='{row_name}');\n",
        "\n",
        "grid.add_legend(title = 'Lengendary')\n",
        "\n",
        "# Set spines (optional)\n",
        "sns.despine(top=True, right=True, left=False, bottom=False)"
      ],
      "metadata": {
        "id": "W1dssyApAgFw"
      },
      "execution_count": null,
      "outputs": []
    },
    {
      "cell_type": "code",
      "source": [
        "# Plotting all types\n",
        "sns.set_style('white')\n",
        "\n",
        "grid = sns.FacetGrid(df, col = 'generation' , row = 'type1', hue = \"is_legendary\", palette=['hotpink', 'blue'])\n",
        "grid.map_dataframe(sns.scatterplot, y= \"base_total\", x=\"base_happiness\")\n",
        "\n",
        "# Add formatting\n",
        "grid.set_axis_labels('Base Happiness', 'Base Total')\n",
        "grid.set_titles(col_template = 'Generation = {col_name}', row_template ='{row_name}');\n",
        "\n",
        "grid.add_legend(title = 'Lengendary')\n",
        "\n",
        "# Set spines (optional)\n",
        "sns.despine(top=True, right=True, left=False, bottom=False)\n",
        "\n"
      ],
      "metadata": {
        "id": "RKCmTHLAG4xu"
      },
      "execution_count": null,
      "outputs": []
    },
    {
      "cell_type": "markdown",
      "source": [
        "Box plots"
      ],
      "metadata": {
        "id": "O3_9cTD1Lh6i"
      }
    },
    {
      "cell_type": "code",
      "source": [
        "# Before creating boxplots, define a variable to compute the boxplot median values and plot them \n",
        "\n",
        "def add_median_labels(ax, fmt='.1f'):\n",
        "    lines = ax.get_lines()\n",
        "    boxes = [c for c in ax.get_children() if type(c).__name__ == 'PathPatch']\n",
        "    lines_per_box = int(len(lines) / len(boxes))\n",
        "    for median in lines[4:len(lines):lines_per_box]:\n",
        "        x, y = (data.mean() for data in median.get_data())\n",
        "        # choose value depending on horizontal or vertical plot orientation\n",
        "        value = x if (median.get_xdata()[1] - median.get_xdata()[0]) == 0 else y\n",
        "        text = ax.text(x, y, f'{value:{fmt}}', ha='center', va='center',\n",
        "                       fontweight='bold', color='white')\n",
        "        # create median-colored border around white text for contrast\n",
        "        text.set_path_effects([\n",
        "            path_effects.Stroke(linewidth=3, foreground=median.get_color()),\n",
        "            path_effects.Normal(),\n",
        "        ])"
      ],
      "metadata": {
        "id": "bHmc6iUZe3xZ"
      },
      "execution_count": 221,
      "outputs": []
    },
    {
      "cell_type": "code",
      "source": [
        "# Create a boxplot of capture rates by generation categories and legendary detail\n",
        "sns.set(rc={'figure.figsize':(16,8.27)})\n",
        "ax = sns.boxplot(data = df, x = 'generation', y = 'capture_rate', hue = 'is_legendary', palette=['darkorchid', 'violet'])\n",
        "\n",
        "# Set Title\n",
        "ax.set_title('Pokémon Capture Rate by Generation', loc='left', pad=15)\n",
        "\n",
        "# Set spines (optional)\n",
        "sns.despine(top=True, right=True, left=True, bottom=True)\n",
        "\n",
        "# Set axis titles\n",
        "ax.set_xlabel(xlabel='Generation')\n",
        "ax.set_ylabel(ylabel='Capture Rate')\n",
        "\n",
        "# Format legend\n",
        "handles, labels = ax.get_legend_handles_labels()\n",
        "ax.legend(handles, ['Non-legendary', 'Legendary'], loc=(1.01,0.5));\n",
        "\n",
        "add_median_labels(ax)"
      ],
      "metadata": {
        "id": "48b0nZWVsPAE"
      },
      "execution_count": null,
      "outputs": []
    },
    {
      "cell_type": "code",
      "source": [
        "# Create a boxplot of capture rates by type1 (no legendary detail)\n",
        "sns.set(rc={'figure.figsize':(14,6)})\n",
        "ax = sns.boxplot(data = df, x = 'type1', y = 'capture_rate', palette=['blue', 'lightblue'])\n",
        "\n",
        "# Set Title\n",
        "ax.set_title('Pokémon Capture Rate by Primary Type', loc='left', pad=15)\n",
        "\n",
        "# Set spines (optional)\n",
        "sns.despine(top=True, right=True, left=True, bottom=True)\n",
        "\n",
        "# Set axis titles\n",
        "ax.set_xlabel(xlabel='')\n",
        "ax.set_ylabel(ylabel='Capture Rate')\n",
        "\n",
        "\n",
        "ax.tick_params(axis='x', rotation=65)\n",
        "\n",
        "add_median_labels(ax)"
      ],
      "metadata": {
        "id": "ll7cqoi7dXlO"
      },
      "execution_count": null,
      "outputs": []
    },
    {
      "cell_type": "code",
      "source": [
        "# Create a boxplot of capture rates by type1 and legendary detail\n",
        "sns.set(rc={'figure.figsize':(16,8.27)})\n",
        "\n",
        "ax = sns.boxplot(data = df, x = 'type1', y = 'capture_rate', hue = 'is_legendary', palette=['darkorchid', 'violet'])\n",
        "\n",
        "# Set Title\n",
        "ax.set_title('Pokémon Capture Rate by Primary Type', loc='left', pad=15)\n",
        "\n",
        "# Set spines (optional)\n",
        "sns.despine(top=True, right=True, left=True, bottom=True)\n",
        "\n",
        "# Set axis titles\n",
        "ax.set_xlabel(xlabel='Primary Type')\n",
        "ax.set_ylabel(ylabel='Capture Rate')\n",
        "\n",
        "ax.tick_params(axis='x', rotation=65)\n",
        "\n",
        "\n",
        "# Format legend\n",
        "handles, labels = ax.get_legend_handles_labels()\n",
        "ax.legend(handles, ['Non-legendary', 'Legendary'], loc=(1.01,0.5));"
      ],
      "metadata": {
        "id": "ydQeJRPqwnsg"
      },
      "execution_count": null,
      "outputs": []
    },
    {
      "cell_type": "code",
      "source": [
        "# Finding the strongest/ best group of Pokemon by base total and generation\n",
        "\n",
        "# Set variable for tick labels\n",
        "generations = [f'Gen {g}' for g in df.generation.unique()]\n",
        "\n",
        "# Build plot\n",
        "sns.set(rc={'figure.figsize':(16,8.27)})\n",
        "ax = sns.boxplot(data = df, x = 'generation', y='base_total', hue = 'is_legendary', palette=['darkorchid', 'violet'])\n",
        "\n",
        "# Set Title\n",
        "ax.set_title('Pokémon Base Total by Generation', loc='left', pad=15)\n",
        "\n",
        "# Set axis titles\n",
        "ax.set_xlabel(xlabel='Generation')\n",
        "ax.set_ylabel(ylabel='Base Total')\n",
        "\n",
        "ax.tick_params(axis='x')\n",
        "\n",
        "# Set spines (optional)\n",
        "sns.despine(top=True, right=True, left=True, bottom=True)\n",
        "\n",
        "# Format legend\n",
        "handles, labels = ax.get_legend_handles_labels()\n",
        "ax.legend(handles, ['Non-legendary', 'Legendary'], loc=(1.01,0.5));\n",
        "\n",
        "add_median_labels(ax)\n",
        "\n"
      ],
      "metadata": {
        "id": "fjbKCKoc4EZW"
      },
      "execution_count": null,
      "outputs": []
    },
    {
      "cell_type": "code",
      "source": [
        "# Create a Top 10 dataframe by Total Base\n",
        "top_10 = df_short.sort_values(by=['base_total'], ascending=False).reset_index()[:10]\n",
        "\n",
        "# Build plot\n",
        "sns.set(rc={'figure.figsize':(8,8.27)})\n",
        "ax = sns.barplot(data = top_10, x = 'base_total', y='name', hue = 'is_legendary', palette=['darkorchid', 'violet'], dodge = False)\n",
        "\n",
        "# Set Title\n",
        "ax.set_title('Top 10 Pokémon by Base Total', loc='left', pad=15)\n",
        "\n",
        "# Set axis titles\n",
        "ax.set_xlabel(xlabel='Base Total')\n",
        "ax.set_ylabel(ylabel='')\n",
        "\n",
        "# Format Legend\n",
        "handles, labels = ax.get_legend_handles_labels()\n",
        "ax.legend(handles, ['Non-legendary', 'Legendary'], loc=(1.01,0.5));\n",
        "\n",
        "# Annotate counts of Pokemon per generation on plot\n",
        "for index, value in enumerate(top_10.base_total): \n",
        "    plt.annotate(f'{value}', xy=(value + 2, index + .2), color='black') \n"
      ],
      "metadata": {
        "id": "mEgWa4lxACmR"
      },
      "execution_count": null,
      "outputs": []
    },
    {
      "cell_type": "code",
      "source": [
        "# Top 10 detail\n",
        "top_10"
      ],
      "metadata": {
        "id": "YPYfc491uM4A"
      },
      "execution_count": null,
      "outputs": []
    },
    {
      "cell_type": "code",
      "source": [
        "# Create a Top 10 dataframe by Total Base\n",
        "top = df.sort_values(by=['base_total'], ascending=False).reset_index()[:10]\n",
        "top.T"
      ],
      "metadata": {
        "id": "Lg8PGtA107sp"
      },
      "execution_count": null,
      "outputs": []
    },
    {
      "cell_type": "markdown",
      "source": [
        "Radar Charts"
      ],
      "metadata": {
        "id": "gc-0orckJTGM"
      }
    },
    {
      "cell_type": "code",
      "source": [
        "# Create lists of items to rank for Pokemons to include in radar chart\n",
        "\n",
        "attributes=['attack', 'sp_attack', 'defense', 'sp_defense', 'hp', 'speed']\n",
        "\n",
        "mewtwo= top_10[top_10['name'] == 'Mewtwo'][attributes].values.tolist()[0]\n",
        "rayquaza = top_10[top_10['name'] == 'Rayquaza'][attributes].values.tolist()[0]\n",
        "groudon = top_10[top_10['name'] == 'Groudon'][attributes].values.tolist()[0]\n",
        "kyogre = top_10[top_10['name'] == 'Kyogre'][attributes].values.tolist()[0]\n",
        "\n",
        "# Create radar plot\n",
        "\n",
        "angles=np.linspace(0,2*np.pi,len(attributes), endpoint=False)\n",
        "angles=np.concatenate((angles,[angles[0]]))\n",
        "attributes.append(attributes[0])\n",
        "mewtwo.append(mewtwo[0])\n",
        "rayquaza.append(rayquaza[0])\n",
        "\n",
        "fig=plt.figure(figsize=(20,10))\n",
        "ax=fig.add_subplot(111, polar=True)\n",
        "\n",
        "# Mewtwo Plot\n",
        "ax.plot(angles, mewtwo, 'o-', color='#997996', linewidth=1, label='Mewtwo')\n",
        "ax.fill(angles, mewtwo, alpha=0.25, color='#997996')\n",
        "\n",
        "# Rayquaza Plot\n",
        "ax.plot(angles,rayquaza, 'o-', color='#418A5B', linewidth=1, label='Rayquaza')\n",
        "ax.fill(angles, rayquaza, alpha=0.25, color='#418A5B')\n",
        "\n",
        "ax.set_thetagrids(angles[:-1] * 180/np.pi, attributes[:-1], fontsize=12)\n",
        "plt.grid(True)\n",
        "\n",
        "handles, labels = ax.get_legend_handles_labels()\n",
        "ax.legend(handles, ['Mewtwo', 'Rayquaza'], loc=(0,0.99));\n",
        "\n",
        "ax.set_title(\"Mewtwo vs Rayquaza\", loc='left', pad=40);"
      ],
      "metadata": {
        "id": "Tt4P0P9P8Spy"
      },
      "execution_count": null,
      "outputs": []
    },
    {
      "cell_type": "code",
      "source": [
        "#Radar Chart\n",
        "\n",
        "attributes=['attack', 'sp_attack', 'defense', 'sp_defense', 'hp', 'speed']\n",
        "\n",
        "mewtwo= top_10[top_10['name'] == 'Mewtwo'][attributes].values.tolist()[0]\n",
        "rayquaza = top_10[top_10['name'] == 'Rayquaza'][attributes].values.tolist()[0]\n",
        "groudon = top_10[top_10['name'] == 'Groudon'][attributes].values.tolist()[0]\n",
        "kyogre = top_10[top_10['name'] == 'Kyogre'][attributes].values.tolist()[0]\n",
        "\n",
        "# Create radar plot\n",
        "\n",
        "angles=np.linspace(0,2*np.pi,len(attributes), endpoint=False)\n",
        "angles=np.concatenate((angles,[angles[0]]))\n",
        "attributes.append(attributes[0])\n",
        "kyogre.append(kyogre[0])\n",
        "groudon.append(groudon[0])\n",
        "\n",
        "\n",
        "fig=plt.figure(figsize=(20,10))\n",
        "ax=fig.add_subplot(111, polar=True)\n",
        "\n",
        "# Groudon Plot\n",
        "ax.plot(angles, groudon, 'o-', color='#C53023', linewidth=1, label='Groudon')\n",
        "ax.fill(angles, groudon, alpha=0.25, color='#C53023')\n",
        "\n",
        "# Kyogre Plot\n",
        "ax.plot(angles, kyogre, 'o-', color='#0271B9', linewidth=1, label='Kyogre')\n",
        "ax.fill(angles, kyogre, alpha=0.25, color='#0271B9')\n",
        "\n",
        "ax.set_thetagrids(angles[:-1] * 180/np.pi, attributes[:-1], fontsize=12)\n",
        "plt.grid(True)\n",
        "\n",
        "handles, labels = ax.get_legend_handles_labels()\n",
        "ax.legend(handles, ['Groudon', 'Kyogre'], loc=(0,0.99));\n",
        "\n",
        "ax.set_title(\"Groudon vs Kyogre\", loc='left', pad=40);"
      ],
      "metadata": {
        "id": "Fc1QMSLl_Jfa"
      },
      "execution_count": null,
      "outputs": []
    },
    {
      "cell_type": "code",
      "source": [
        "#Radar Chart\n",
        "\n",
        "attributes=['attack', 'sp_attack', 'defense', 'sp_defense', 'hp', 'speed']\n",
        "\n",
        "mewtwo= top_10[top_10['name'] == 'Mewtwo'][attributes].values.tolist()[0]\n",
        "rayquaza = top_10[top_10['name'] == 'Rayquaza'][attributes].values.tolist()[0]\n",
        "groudon = top_10[top_10['name'] == 'Groudon'][attributes].values.tolist()[0]\n",
        "kyogre = top_10[top_10['name'] == 'Kyogre'][attributes].values.tolist()[0]\n",
        "\n",
        "# Create radar plot\n",
        "\n",
        "angles=np.linspace(0,2*np.pi,len(attributes), endpoint=False)\n",
        "angles=np.concatenate((angles,[angles[0]]))\n",
        "attributes.append(attributes[0])\n",
        "kyogre.append(kyogre[0])\n",
        "groudon.append(groudon[0])\n",
        "mewtwo.append(mewtwo[0])\n",
        "rayquaza.append(rayquaza[0])\n",
        "\n",
        "fig=plt.figure(figsize=(20,10))\n",
        "ax=fig.add_subplot(111, polar=True)\n",
        "\n",
        "# Groudon Plot\n",
        "ax.plot(angles, groudon, 'o-', color='#C53023', linewidth=1, label='Groudon')\n",
        "ax.fill(angles, groudon, alpha=0.25, color='#C53023')\n",
        "\n",
        "# Kyogre Plot\n",
        "ax.plot(angles, kyogre, 'o-', color='#0271B9', linewidth=1, label='Kyogre')\n",
        "ax.fill(angles, kyogre, alpha=0.25, color='#0271B9')\n",
        "\n",
        "# Mewtwo Plot\n",
        "ax.plot(angles, mewtwo, 'o-', color='#997996', linewidth=1, label='Mewtwo')\n",
        "ax.fill(angles, mewtwo, alpha=0.25, color='#997996')\n",
        "\n",
        "# Rayquaza Plot\n",
        "ax.plot(angles,rayquaza, 'o-', color='#418A5B', linewidth=1, label='Rayquaza')\n",
        "ax.fill(angles, rayquaza, alpha=0.25, color='#418A5B')\n",
        "\n",
        "ax.set_thetagrids(angles[:-1] * 180/np.pi, attributes[:-1], fontsize=12)\n",
        "plt.grid(True)\n",
        "\n",
        "handles, labels = ax.get_legend_handles_labels()\n",
        "ax.legend(handles, ['Groudon', 'Kyogre', 'Mewtwo', 'Rayquaza'], loc=(-.1,.1));\n",
        "\n",
        "ax.set_title(\"Top 4 Pokemon Battle\", loc='left', pad=40);"
      ],
      "metadata": {
        "id": "fmxqkbJ-Ky2I"
      },
      "execution_count": null,
      "outputs": []
    },
    {
      "cell_type": "code",
      "source": [
        "# Mewtwo and Rayquaza Type Effectiveness Heat Map\n",
        "against_columns = ['against_psychic', 'against_dragon']\n",
        "\n",
        "top2 = df[(df['name'] == 'Mewtwo') | (df['name'] == 'Rayquaza' )]\n",
        "\n",
        "# To calculate median effectiveness between the two types\n",
        "pyschic_dragon_effectiveness = top2.groupby(['type1']).sum()[against_columns].T\n",
        "\n",
        "# Heat map by type\n",
        "ax = sns.heatmap(pokemon_type_effectiveness,\n",
        "            annot= True,\n",
        "            fmt = \".1f\",\n",
        "            vmin = 0,\n",
        "            vmax = 4,\n",
        "            cbar=False,\n",
        "            cmap='Reds')\n",
        "\n",
        "ax.set_xlabel(xlabel='Primary Type')\n",
        "ax.set_ylabel(ylabel='Effect on Primary Type In Battle Against:')\n",
        "\n",
        "ax.annotate('Lighter = Low, Darker = High', xy=(0, 0), xytext=(0, -0.05), color='grey', size=12)\n",
        "\n",
        "ax.set_title('Mewtwo vs Rayquaza Type Effectiveness Chart', loc='left', pad=30);"
      ],
      "metadata": {
        "id": "FlZpGxcc469v"
      },
      "execution_count": null,
      "outputs": []
    },
    {
      "cell_type": "code",
      "source": [
        "# Top 2 Effectiveness Matrix\n",
        "against_columns2 = ['against_ground', 'against_water']\n",
        "\n",
        "top3 = df[(df['name'] == 'Groudon') | (df['name'] == 'Kyogre' )]\n",
        "\n",
        "# To calculate median effectiveness between the two types\n",
        "ground_water_effectiveness = top3.groupby(['type1']).sum()[against_columns2].T\n",
        "\n",
        "# Heat map by type\n",
        "ax = sns.heatmap(ground_water_effectiveness,\n",
        "            annot= True,\n",
        "            fmt = \".1f\",\n",
        "            vmin = 0,\n",
        "            vmax = 4,\n",
        "            cbar=False,\n",
        "            cmap='Reds')\n",
        "\n",
        "ax.set_xlabel(xlabel='Primary Type')\n",
        "ax.set_ylabel(ylabel='Effect on Primary Type In Battle Against:')\n",
        "\n",
        "ax.annotate('Lighter = Low, Darker = High', xy=(0, 0), xytext=(0, -0.05), color='grey', size=12)\n",
        "\n",
        "ax.set_title('Groudon vs Kyogre Type Effectiveness Chart', loc='left', pad=30);"
      ],
      "metadata": {
        "id": "kDKYvfKlAw7M"
      },
      "execution_count": null,
      "outputs": []
    }
  ]
}